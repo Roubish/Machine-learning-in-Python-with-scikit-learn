{
  "nbformat": 4,
  "nbformat_minor": 0,
  "metadata": {
    "kernelspec": {
      "display_name": "Python 3",
      "language": "python",
      "name": "python3"
    },
    "language_info": {
      "codemirror_mode": {
        "name": "ipython",
        "version": 3
      },
      "file_extension": ".py",
      "mimetype": "text/x-python",
      "name": "python",
      "nbconvert_exporter": "python",
      "pygments_lexer": "ipython3",
      "version": "3.7.7"
    },
    "colab": {
      "name": "Transfer Learning VGG16.ipynb",
      "provenance": [],
      "include_colab_link": true
    }
  },
  "cells": [
    {
      "cell_type": "markdown",
      "metadata": {
        "id": "view-in-github",
        "colab_type": "text"
      },
      "source": [
        "<a href=\"https://colab.research.google.com/github/Roubish/Machine-learning-in-Python-with-scikit-learn/blob/main/Transfer_Learning_VGG16.ipynb\" target=\"_parent\"><img src=\"https://colab.research.google.com/assets/colab-badge.svg\" alt=\"Open In Colab\"/></a>"
      ]
    },
    {
      "cell_type": "markdown",
      "metadata": {
        "id": "OSO8QmGkdcBQ"
      },
      "source": [
        "## Transfer Learning VGG 16 and VGG 19 using Keras"
      ]
    },
    {
      "cell_type": "markdown",
      "metadata": {
        "id": "GdwK7X-pdcBU"
      },
      "source": [
        "Please download the dataset from the below url"
      ]
    },
    {
      "cell_type": "code",
      "metadata": {
        "id": "7ND814r5dcBV",
        "outputId": "bbbc5dc5-5775-4f76-bb8a-816eb453084f"
      },
      "source": [
        "import tensorflow as tf \n",
        "\n",
        "if tf.test.gpu_device_name(): \n",
        "    \n",
        "\n",
        "    print('Default GPU Device:{}'.format(tf.test.gpu_device_name()))\n",
        "\n",
        "else:\n",
        "\n",
        "    print(\"Please install GPU version of TF\")"
      ],
      "execution_count": null,
      "outputs": [
        {
          "output_type": "stream",
          "text": [
            "Default GPU Device:/device:GPU:0\n"
          ],
          "name": "stdout"
        }
      ]
    },
    {
      "cell_type": "code",
      "metadata": {
        "id": "1uJScrCCdcBX",
        "outputId": "54853cb2-99f0-4516-b817-d9c5c69543f4"
      },
      "source": [
        "tf.test.gpu_device_name()"
      ],
      "execution_count": null,
      "outputs": [
        {
          "output_type": "execute_result",
          "data": {
            "text/plain": [
              "'/device:GPU:0'"
            ]
          },
          "metadata": {
            "tags": []
          },
          "execution_count": 2
        }
      ]
    },
    {
      "cell_type": "code",
      "metadata": {
        "id": "hjyVf9PadcBX"
      },
      "source": [
        "# import the libraries as shown below\n",
        "\n",
        "from tensorflow.keras.layers import Input, Lambda, Dense, Flatten\n",
        "from tensorflow.keras.models import Model\n",
        "from tensorflow.keras.applications.vgg16 import VGG16\n",
        "from tensorflow.keras.applications.vgg16 import preprocess_input\n",
        "from tensorflow.keras.preprocessing import image\n",
        "from tensorflow.keras.preprocessing.image import ImageDataGenerator,load_img\n",
        "from tensorflow.keras.models import Sequential\n",
        "import numpy as np\n",
        "from glob import glob\n"
      ],
      "execution_count": null,
      "outputs": []
    },
    {
      "cell_type": "code",
      "metadata": {
        "id": "6DV6BWhJdcBY"
      },
      "source": [
        "# re-size all the images to this\n",
        "IMAGE_SIZE = [224, 224]\n",
        "\n",
        "train_path = 'Datasets/train'\n",
        "valid_path = 'Datasets/test'\n"
      ],
      "execution_count": null,
      "outputs": []
    },
    {
      "cell_type": "code",
      "metadata": {
        "id": "2mNdpXqQdcBY"
      },
      "source": [
        "# Import the Vgg 16 library as shown below and add preprocessing layer to the front of VGG\n",
        "# Here we will be using imagenet weights\n",
        "\n",
        "vgg16 = VGG16(input_shape=IMAGE_SIZE + [3], weights='imagenet', include_top=False)\n",
        "\n",
        "\n"
      ],
      "execution_count": null,
      "outputs": []
    },
    {
      "cell_type": "code",
      "metadata": {
        "id": "P6tAz08KdcBZ"
      },
      "source": [
        "# don't train existing weights\n",
        "for layer in vgg16.layers:\n",
        "    layer.trainable = False"
      ],
      "execution_count": null,
      "outputs": []
    },
    {
      "cell_type": "code",
      "metadata": {
        "id": "ZeyjdLs9dcBZ"
      },
      "source": [
        "  # useful for getting number of output classes\n",
        "folders = glob('Datasets/train/*')"
      ],
      "execution_count": null,
      "outputs": []
    },
    {
      "cell_type": "code",
      "metadata": {
        "id": "1C8mweBddcBa"
      },
      "source": [
        "# our layers - you can add more if you want\n",
        "x = Flatten()(vgg16.output)"
      ],
      "execution_count": null,
      "outputs": []
    },
    {
      "cell_type": "code",
      "metadata": {
        "id": "7fL7sTQTdcBa"
      },
      "source": [
        "prediction = Dense(len(folders), activation='softmax')(x)\n",
        "\n",
        "# create a model object\n",
        "model = Model(inputs=vgg16.input, outputs=prediction)"
      ],
      "execution_count": null,
      "outputs": []
    },
    {
      "cell_type": "code",
      "metadata": {
        "id": "adL86zQ1dcBb",
        "outputId": "5c02e408-2752-4d9b-fc01-c7cd50c8aa3f"
      },
      "source": [
        "\n",
        "# view the structure of the model\n",
        "model.summary()\n"
      ],
      "execution_count": null,
      "outputs": [
        {
          "output_type": "stream",
          "text": [
            "Model: \"model\"\n",
            "_________________________________________________________________\n",
            "Layer (type)                 Output Shape              Param #   \n",
            "=================================================================\n",
            "input_1 (InputLayer)         [(None, 224, 224, 3)]     0         \n",
            "_________________________________________________________________\n",
            "block1_conv1 (Conv2D)        (None, 224, 224, 64)      1792      \n",
            "_________________________________________________________________\n",
            "block1_conv2 (Conv2D)        (None, 224, 224, 64)      36928     \n",
            "_________________________________________________________________\n",
            "block1_pool (MaxPooling2D)   (None, 112, 112, 64)      0         \n",
            "_________________________________________________________________\n",
            "block2_conv1 (Conv2D)        (None, 112, 112, 128)     73856     \n",
            "_________________________________________________________________\n",
            "block2_conv2 (Conv2D)        (None, 112, 112, 128)     147584    \n",
            "_________________________________________________________________\n",
            "block2_pool (MaxPooling2D)   (None, 56, 56, 128)       0         \n",
            "_________________________________________________________________\n",
            "block3_conv1 (Conv2D)        (None, 56, 56, 256)       295168    \n",
            "_________________________________________________________________\n",
            "block3_conv2 (Conv2D)        (None, 56, 56, 256)       590080    \n",
            "_________________________________________________________________\n",
            "block3_conv3 (Conv2D)        (None, 56, 56, 256)       590080    \n",
            "_________________________________________________________________\n",
            "block3_pool (MaxPooling2D)   (None, 28, 28, 256)       0         \n",
            "_________________________________________________________________\n",
            "block4_conv1 (Conv2D)        (None, 28, 28, 512)       1180160   \n",
            "_________________________________________________________________\n",
            "block4_conv2 (Conv2D)        (None, 28, 28, 512)       2359808   \n",
            "_________________________________________________________________\n",
            "block4_conv3 (Conv2D)        (None, 28, 28, 512)       2359808   \n",
            "_________________________________________________________________\n",
            "block4_pool (MaxPooling2D)   (None, 14, 14, 512)       0         \n",
            "_________________________________________________________________\n",
            "block5_conv1 (Conv2D)        (None, 14, 14, 512)       2359808   \n",
            "_________________________________________________________________\n",
            "block5_conv2 (Conv2D)        (None, 14, 14, 512)       2359808   \n",
            "_________________________________________________________________\n",
            "block5_conv3 (Conv2D)        (None, 14, 14, 512)       2359808   \n",
            "_________________________________________________________________\n",
            "block5_pool (MaxPooling2D)   (None, 7, 7, 512)         0         \n",
            "_________________________________________________________________\n",
            "flatten_1 (Flatten)          (None, 25088)             0         \n",
            "_________________________________________________________________\n",
            "dense_1 (Dense)              (None, 2)                 50178     \n",
            "=================================================================\n",
            "Total params: 14,764,866\n",
            "Trainable params: 50,178\n",
            "Non-trainable params: 14,714,688\n",
            "_________________________________________________________________\n"
          ],
          "name": "stdout"
        }
      ]
    },
    {
      "cell_type": "code",
      "metadata": {
        "id": "V9UCQNZtdcBb"
      },
      "source": [
        "# tell the model what cost and optimization method to use\n",
        "model.compile(\n",
        "  loss='categorical_crossentropy',\n",
        "  optimizer='adam',\n",
        "  metrics=['accuracy']\n",
        ")\n"
      ],
      "execution_count": null,
      "outputs": []
    },
    {
      "cell_type": "code",
      "metadata": {
        "id": "ENieJIxKdcBc"
      },
      "source": [
        "# Use the Image Data Generator to import the images from the dataset\n",
        "from tensorflow.keras.preprocessing.image import ImageDataGenerator\n",
        "\n",
        "train_datagen = ImageDataGenerator(rescale = 1./255,\n",
        "                                   shear_range = 0.2,\n",
        "                                   zoom_range = 0.2,\n",
        "                                   horizontal_flip = True)\n",
        "\n",
        "test_datagen = ImageDataGenerator(rescale = 1./255)"
      ],
      "execution_count": null,
      "outputs": []
    },
    {
      "cell_type": "code",
      "metadata": {
        "id": "mXloA7bWdcBc",
        "outputId": "f68b05dc-1b57-465f-d899-d4fc684ac0a8"
      },
      "source": [
        "# Make sure you provide the same target size as initialied for the image size\n",
        "training_set = train_datagen.flow_from_directory('Datasets/train',\n",
        "                                                 target_size = (224, 224),\n",
        "                                                 batch_size = 32,\n",
        "                                                 class_mode = 'categorical')"
      ],
      "execution_count": null,
      "outputs": [
        {
          "output_type": "stream",
          "text": [
            "Found 8000 images belonging to 2 classes.\n"
          ],
          "name": "stdout"
        }
      ]
    },
    {
      "cell_type": "code",
      "metadata": {
        "id": "PWvRqiO1dcBd",
        "outputId": "0cf94a66-5214-44f2-a771-2e414ccff7e7"
      },
      "source": [
        "test_set = test_datagen.flow_from_directory('Datasets/test',\n",
        "                                            target_size = (224, 224),\n",
        "                                            batch_size = 32,\n",
        "                                            class_mode = 'categorical')"
      ],
      "execution_count": null,
      "outputs": [
        {
          "output_type": "stream",
          "text": [
            "Found 2000 images belonging to 2 classes.\n"
          ],
          "name": "stdout"
        }
      ]
    },
    {
      "cell_type": "code",
      "metadata": {
        "id": "5sk95_dgdcBd",
        "outputId": "99e36345-b1c4-4301-ba40-d6ff74fb86e3"
      },
      "source": [
        "# fit the model\n",
        "# Run the cell. It will take some time to execute\n",
        "r = model.fit_generator(\n",
        "  training_set,\n",
        "  validation_data=test_set,\n",
        "  epochs=50,\n",
        "  steps_per_epoch=len(training_set),\n",
        "  validation_steps=len(test_set)\n",
        ")"
      ],
      "execution_count": null,
      "outputs": [
        {
          "output_type": "stream",
          "text": [
            "WARNING:tensorflow:From <ipython-input-15-69229fe26ea3>:8: Model.fit_generator (from tensorflow.python.keras.engine.training) is deprecated and will be removed in a future version.\n",
            "Instructions for updating:\n",
            "Please use Model.fit, which supports generators.\n",
            "Epoch 1/50\n",
            "250/250 [==============================] - 143s 571ms/step - loss: 0.9849 - accuracy: 0.5805 - val_loss: 0.6414 - val_accuracy: 0.6810\n",
            "Epoch 2/50\n",
            "250/250 [==============================] - 77s 310ms/step - loss: 0.7444 - accuracy: 0.6340 - val_loss: 0.6041 - val_accuracy: 0.7000\n",
            "Epoch 3/50\n",
            "250/250 [==============================] - 66s 265ms/step - loss: 0.8714 - accuracy: 0.6201 - val_loss: 0.8576 - val_accuracy: 0.6065\n",
            "Epoch 4/50\n",
            "250/250 [==============================] - 66s 265ms/step - loss: 0.7274 - accuracy: 0.6618 - val_loss: 0.5671 - val_accuracy: 0.7430\n",
            "Epoch 5/50\n",
            "250/250 [==============================] - 66s 266ms/step - loss: 0.7892 - accuracy: 0.6540 - val_loss: 0.8466 - val_accuracy: 0.6280\n",
            "Epoch 6/50\n",
            "250/250 [==============================] - 65s 260ms/step - loss: 0.7159 - accuracy: 0.6720 - val_loss: 0.7544 - val_accuracy: 0.6675\n",
            "Epoch 7/50\n",
            "250/250 [==============================] - 66s 265ms/step - loss: 0.7147 - accuracy: 0.6793 - val_loss: 0.7447 - val_accuracy: 0.6670\n",
            "Epoch 8/50\n",
            "250/250 [==============================] - 66s 265ms/step - loss: 0.6144 - accuracy: 0.7066 - val_loss: 0.9527 - val_accuracy: 0.6030\n",
            "Epoch 9/50\n",
            "250/250 [==============================] - 66s 266ms/step - loss: 0.6950 - accuracy: 0.6975 - val_loss: 0.9027 - val_accuracy: 0.6260\n",
            "Epoch 10/50\n",
            "250/250 [==============================] - 66s 266ms/step - loss: 0.7030 - accuracy: 0.6914 - val_loss: 1.0834 - val_accuracy: 0.5705\n",
            "Epoch 11/50\n",
            "250/250 [==============================] - 67s 267ms/step - loss: 0.6968 - accuracy: 0.6940 - val_loss: 0.5851 - val_accuracy: 0.7390\n",
            "Epoch 12/50\n",
            "250/250 [==============================] - 66s 265ms/step - loss: 0.7272 - accuracy: 0.6879 - val_loss: 0.6926 - val_accuracy: 0.7040\n",
            "Epoch 13/50\n",
            "250/250 [==============================] - 66s 265ms/step - loss: 0.6355 - accuracy: 0.7119 - val_loss: 0.8911 - val_accuracy: 0.6405\n",
            "Epoch 14/50\n",
            "250/250 [==============================] - 66s 264ms/step - loss: 0.6635 - accuracy: 0.7016 - val_loss: 1.4138 - val_accuracy: 0.5440\n",
            "Epoch 15/50\n",
            "250/250 [==============================] - 66s 266ms/step - loss: 0.6392 - accuracy: 0.7100 - val_loss: 0.5912 - val_accuracy: 0.7390\n",
            "Epoch 16/50\n",
            "250/250 [==============================] - 66s 264ms/step - loss: 0.7473 - accuracy: 0.6894 - val_loss: 1.2620 - val_accuracy: 0.5695\n",
            "Epoch 17/50\n",
            "250/250 [==============================] - 66s 264ms/step - loss: 0.7158 - accuracy: 0.7034 - val_loss: 0.8615 - val_accuracy: 0.6600\n",
            "Epoch 18/50\n",
            "250/250 [==============================] - 66s 264ms/step - loss: 0.6455 - accuracy: 0.7179 - val_loss: 0.5756 - val_accuracy: 0.7510\n",
            "Epoch 19/50\n",
            "250/250 [==============================] - 66s 265ms/step - loss: 0.5975 - accuracy: 0.7296 - val_loss: 0.5918 - val_accuracy: 0.7465\n",
            "Epoch 20/50\n",
            "250/250 [==============================] - 66s 265ms/step - loss: 0.7538 - accuracy: 0.7017 - val_loss: 0.5946 - val_accuracy: 0.7490\n",
            "Epoch 21/50\n",
            "250/250 [==============================] - 66s 264ms/step - loss: 0.6780 - accuracy: 0.7193 - val_loss: 0.6079 - val_accuracy: 0.7515\n",
            "Epoch 22/50\n",
            "250/250 [==============================] - 66s 265ms/step - loss: 0.6421 - accuracy: 0.7190 - val_loss: 0.9046 - val_accuracy: 0.6630\n",
            "Epoch 23/50\n",
            "250/250 [==============================] - 66s 264ms/step - loss: 0.6268 - accuracy: 0.7231 - val_loss: 1.5318 - val_accuracy: 0.5885\n",
            "Epoch 24/50\n",
            "250/250 [==============================] - 66s 264ms/step - loss: 0.8696 - accuracy: 0.6823 - val_loss: 0.6983 - val_accuracy: 0.7270\n",
            "Epoch 25/50\n",
            "250/250 [==============================] - 66s 264ms/step - loss: 0.6074 - accuracy: 0.7284 - val_loss: 0.6091 - val_accuracy: 0.7565\n",
            "Epoch 26/50\n",
            "250/250 [==============================] - 66s 264ms/step - loss: 0.5853 - accuracy: 0.7404 - val_loss: 0.7614 - val_accuracy: 0.7025\n",
            "Epoch 27/50\n",
            "250/250 [==============================] - 86s 344ms/step - loss: 0.5922 - accuracy: 0.7318 - val_loss: 0.7716 - val_accuracy: 0.7030\n",
            "Epoch 28/50\n",
            "250/250 [==============================] - 76s 302ms/step - loss: 0.6921 - accuracy: 0.7170 - val_loss: 1.1953 - val_accuracy: 0.6280\n",
            "Epoch 29/50\n",
            "250/250 [==============================] - 67s 268ms/step - loss: 0.7035 - accuracy: 0.7203 - val_loss: 0.9512 - val_accuracy: 0.6445\n",
            "Epoch 30/50\n",
            "250/250 [==============================] - 66s 265ms/step - loss: 0.5718 - accuracy: 0.7419 - val_loss: 0.7634 - val_accuracy: 0.7105\n",
            "Epoch 31/50\n",
            "250/250 [==============================] - 66s 264ms/step - loss: 0.6277 - accuracy: 0.7260 - val_loss: 0.6304 - val_accuracy: 0.7455\n",
            "Epoch 32/50\n",
            "250/250 [==============================] - 67s 266ms/step - loss: 0.7979 - accuracy: 0.7095 - val_loss: 0.7262 - val_accuracy: 0.7365\n",
            "Epoch 33/50\n",
            "250/250 [==============================] - 67s 268ms/step - loss: 0.6183 - accuracy: 0.7325 - val_loss: 0.9815 - val_accuracy: 0.6615\n",
            "Epoch 34/50\n",
            "250/250 [==============================] - 67s 267ms/step - loss: 0.7104 - accuracy: 0.7131 - val_loss: 0.7212 - val_accuracy: 0.7350\n",
            "Epoch 35/50\n",
            "250/250 [==============================] - 67s 268ms/step - loss: 0.5432 - accuracy: 0.7584 - val_loss: 0.6132 - val_accuracy: 0.7540\n",
            "Epoch 36/50\n",
            "250/250 [==============================] - 67s 268ms/step - loss: 0.6138 - accuracy: 0.7410 - val_loss: 0.7272 - val_accuracy: 0.7245\n",
            "Epoch 37/50\n",
            "250/250 [==============================] - 67s 270ms/step - loss: 0.7516 - accuracy: 0.7084 - val_loss: 0.6232 - val_accuracy: 0.7560\n",
            "Epoch 38/50\n",
            "250/250 [==============================] - 68s 270ms/step - loss: 0.5707 - accuracy: 0.7516 - val_loss: 0.6148 - val_accuracy: 0.7460\n",
            "Epoch 39/50\n",
            "250/250 [==============================] - 67s 269ms/step - loss: 0.5739 - accuracy: 0.7486 - val_loss: 0.7145 - val_accuracy: 0.7290\n",
            "Epoch 40/50\n",
            "250/250 [==============================] - 67s 268ms/step - loss: 0.6304 - accuracy: 0.7304 - val_loss: 0.6455 - val_accuracy: 0.7640\n",
            "Epoch 41/50\n",
            "250/250 [==============================] - 67s 269ms/step - loss: 0.6522 - accuracy: 0.7311 - val_loss: 1.7790 - val_accuracy: 0.5660\n",
            "Epoch 42/50\n",
            "250/250 [==============================] - 67s 270ms/step - loss: 0.6008 - accuracy: 0.7452 - val_loss: 0.6505 - val_accuracy: 0.7555\n",
            "Epoch 43/50\n",
            "250/250 [==============================] - 67s 269ms/step - loss: 0.6320 - accuracy: 0.7333 - val_loss: 0.6170 - val_accuracy: 0.7540\n",
            "Epoch 44/50\n",
            "250/250 [==============================] - 67s 269ms/step - loss: 0.5672 - accuracy: 0.7496 - val_loss: 0.9130 - val_accuracy: 0.6825\n",
            "Epoch 45/50\n",
            "250/250 [==============================] - 67s 269ms/step - loss: 0.6291 - accuracy: 0.7424 - val_loss: 0.7111 - val_accuracy: 0.7415\n",
            "Epoch 46/50\n",
            "250/250 [==============================] - 68s 271ms/step - loss: 0.6970 - accuracy: 0.7185 - val_loss: 1.6166 - val_accuracy: 0.5630\n",
            "Epoch 47/50\n",
            "250/250 [==============================] - 67s 270ms/step - loss: 0.6134 - accuracy: 0.7442 - val_loss: 1.5970 - val_accuracy: 0.5615\n",
            "Epoch 48/50\n",
            "250/250 [==============================] - 67s 270ms/step - loss: 0.6708 - accuracy: 0.7319 - val_loss: 0.9800 - val_accuracy: 0.6840\n",
            "Epoch 49/50\n",
            "250/250 [==============================] - 67s 270ms/step - loss: 0.6303 - accuracy: 0.7370 - val_loss: 0.7387 - val_accuracy: 0.7455\n",
            "Epoch 50/50\n",
            "250/250 [==============================] - 68s 271ms/step - loss: 0.7287 - accuracy: 0.7240 - val_loss: 0.7055 - val_accuracy: 0.7525\n"
          ],
          "name": "stdout"
        }
      ]
    },
    {
      "cell_type": "code",
      "metadata": {
        "id": "8Rqrqp6mdcBe"
      },
      "source": [
        ""
      ],
      "execution_count": null,
      "outputs": []
    },
    {
      "cell_type": "code",
      "metadata": {
        "id": "LkgDXh5hdcBe",
        "outputId": "8b737f60-9ee0-405a-800d-6765d5f038bd"
      },
      "source": [
        "# plot the loss\n",
        "import matplotlib.pyplot as plt\n",
        "plt.plot(r.history['loss'], label='train loss')\n",
        "plt.plot(r.history['val_loss'], label='val loss')\n",
        "plt.legend()\n",
        "plt.show()\n",
        "plt.savefig('LossVal_loss')\n",
        "\n",
        "# plot the accuracy\n",
        "plt.plot(r.history['accuracy'], label='train acc')\n",
        "plt.plot(r.history['val_accuracy'], label='val acc')\n",
        "plt.legend()\n",
        "plt.show()\n",
        "plt.savefig('AccVal_acc')"
      ],
      "execution_count": null,
      "outputs": [
        {
          "output_type": "error",
          "ename": "NameError",
          "evalue": "name 'plt' is not defined",
          "traceback": [
            "\u001b[1;31m---------------------------------------------------------------------------\u001b[0m",
            "\u001b[1;31mNameError\u001b[0m                                 Traceback (most recent call last)",
            "\u001b[1;32m<ipython-input-16-bb6bf5bcc936>\u001b[0m in \u001b[0;36m<module>\u001b[1;34m\u001b[0m\n\u001b[0;32m      1\u001b[0m \u001b[1;31m# plot the loss\u001b[0m\u001b[1;33m\u001b[0m\u001b[1;33m\u001b[0m\u001b[1;33m\u001b[0m\u001b[0m\n\u001b[1;32m----> 2\u001b[1;33m \u001b[0mplt\u001b[0m\u001b[1;33m.\u001b[0m\u001b[0mplot\u001b[0m\u001b[1;33m(\u001b[0m\u001b[0mr\u001b[0m\u001b[1;33m.\u001b[0m\u001b[0mhistory\u001b[0m\u001b[1;33m[\u001b[0m\u001b[1;34m'loss'\u001b[0m\u001b[1;33m]\u001b[0m\u001b[1;33m,\u001b[0m \u001b[0mlabel\u001b[0m\u001b[1;33m=\u001b[0m\u001b[1;34m'train loss'\u001b[0m\u001b[1;33m)\u001b[0m\u001b[1;33m\u001b[0m\u001b[1;33m\u001b[0m\u001b[0m\n\u001b[0m\u001b[0;32m      3\u001b[0m \u001b[0mplt\u001b[0m\u001b[1;33m.\u001b[0m\u001b[0mplot\u001b[0m\u001b[1;33m(\u001b[0m\u001b[0mr\u001b[0m\u001b[1;33m.\u001b[0m\u001b[0mhistory\u001b[0m\u001b[1;33m[\u001b[0m\u001b[1;34m'val_loss'\u001b[0m\u001b[1;33m]\u001b[0m\u001b[1;33m,\u001b[0m \u001b[0mlabel\u001b[0m\u001b[1;33m=\u001b[0m\u001b[1;34m'val loss'\u001b[0m\u001b[1;33m)\u001b[0m\u001b[1;33m\u001b[0m\u001b[1;33m\u001b[0m\u001b[0m\n\u001b[0;32m      4\u001b[0m \u001b[0mplt\u001b[0m\u001b[1;33m.\u001b[0m\u001b[0mlegend\u001b[0m\u001b[1;33m(\u001b[0m\u001b[1;33m)\u001b[0m\u001b[1;33m\u001b[0m\u001b[1;33m\u001b[0m\u001b[0m\n\u001b[0;32m      5\u001b[0m \u001b[0mplt\u001b[0m\u001b[1;33m.\u001b[0m\u001b[0mshow\u001b[0m\u001b[1;33m(\u001b[0m\u001b[1;33m)\u001b[0m\u001b[1;33m\u001b[0m\u001b[1;33m\u001b[0m\u001b[0m\n",
            "\u001b[1;31mNameError\u001b[0m: name 'plt' is not defined"
          ]
        }
      ]
    },
    {
      "cell_type": "code",
      "metadata": {
        "id": "DyoXjS85dcBf"
      },
      "source": [
        "# save it as a h5 file\n",
        "\n",
        "\n",
        "from tensorflow.keras.models import load_model\n",
        "\n",
        "model.save('model_vgg16.h5')"
      ],
      "execution_count": null,
      "outputs": []
    },
    {
      "cell_type": "code",
      "metadata": {
        "id": "lY1gNv8idcBf"
      },
      "source": [
        ""
      ],
      "execution_count": null,
      "outputs": []
    },
    {
      "cell_type": "code",
      "metadata": {
        "id": "Nme80DaLdcBf"
      },
      "source": [
        "\n",
        "y_pred = model.predict(test_set)\n"
      ],
      "execution_count": null,
      "outputs": []
    },
    {
      "cell_type": "code",
      "metadata": {
        "id": "_g_ZoGfadcBf"
      },
      "source": [
        "y_pred"
      ],
      "execution_count": null,
      "outputs": []
    },
    {
      "cell_type": "code",
      "metadata": {
        "id": "ObDDSMi2dcBg"
      },
      "source": [
        "import numpy as np\n",
        "y_pred = np.argmax(y_pred, axis=1)"
      ],
      "execution_count": null,
      "outputs": []
    },
    {
      "cell_type": "code",
      "metadata": {
        "id": "igeoG3jndcBg"
      },
      "source": [
        "y_pred"
      ],
      "execution_count": null,
      "outputs": []
    },
    {
      "cell_type": "code",
      "metadata": {
        "id": "CcPPHFGldcBg"
      },
      "source": [
        ""
      ],
      "execution_count": null,
      "outputs": []
    },
    {
      "cell_type": "code",
      "metadata": {
        "id": "K-BHLnWfdcBg"
      },
      "source": [
        "from tensorflow.keras.models import load_model\n",
        "from tensorflow.keras.preprocessing import image"
      ],
      "execution_count": null,
      "outputs": []
    },
    {
      "cell_type": "code",
      "metadata": {
        "id": "os6eMY8gdcBh"
      },
      "source": [
        "model=load_model('model_resnet50.h5')"
      ],
      "execution_count": null,
      "outputs": []
    },
    {
      "cell_type": "code",
      "metadata": {
        "id": "sRq-Btf_dcBh"
      },
      "source": [
        "img_data"
      ],
      "execution_count": null,
      "outputs": []
    },
    {
      "cell_type": "code",
      "metadata": {
        "id": "97ekfrZxdcBh"
      },
      "source": [
        "img=image.load_img('Datasets/Test/lamborghini/11.jpg',target_size=(224,224))\n",
        "\n"
      ],
      "execution_count": null,
      "outputs": []
    },
    {
      "cell_type": "code",
      "metadata": {
        "id": "oQ0tSdr5dcBh"
      },
      "source": [
        "x=image.img_to_array(img)\n",
        "x"
      ],
      "execution_count": null,
      "outputs": []
    },
    {
      "cell_type": "code",
      "metadata": {
        "id": "LS6ZvfqmdcBi"
      },
      "source": [
        "x.shape"
      ],
      "execution_count": null,
      "outputs": []
    },
    {
      "cell_type": "code",
      "metadata": {
        "id": "yDh_9xPhdcBi"
      },
      "source": [
        "x=x/255"
      ],
      "execution_count": null,
      "outputs": []
    },
    {
      "cell_type": "code",
      "metadata": {
        "id": "QjNaMVRJdcBi"
      },
      "source": [
        "x=np.expand_dims(x,axis=0)\n",
        "img_data=preprocess_input(x)\n",
        "img_data.shape"
      ],
      "execution_count": null,
      "outputs": []
    },
    {
      "cell_type": "code",
      "metadata": {
        "id": "IGNxrX8gdcBi"
      },
      "source": [
        "model.predict(img_data)"
      ],
      "execution_count": null,
      "outputs": []
    },
    {
      "cell_type": "code",
      "metadata": {
        "id": "Qq041yHodcBj"
      },
      "source": [
        "a=np.argmax(model.predict(img_data), axis=1)"
      ],
      "execution_count": null,
      "outputs": []
    },
    {
      "cell_type": "code",
      "metadata": {
        "id": "mQvvQEArdcBj"
      },
      "source": [
        "a==1"
      ],
      "execution_count": null,
      "outputs": []
    },
    {
      "cell_type": "code",
      "metadata": {
        "id": "hW0hPkMKdcBj"
      },
      "source": [
        ""
      ],
      "execution_count": null,
      "outputs": []
    }
  ]
}